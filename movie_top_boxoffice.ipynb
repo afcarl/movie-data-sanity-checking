{
 "cells": [
  {
   "cell_type": "markdown",
   "metadata": {},
   "source": [
    "# Movie Data Sanity Checking\n",
    "\n",
    "by [Max Woolf](http://minimaxir.com) (@minimaxir)\n",
    "\n",
    "*This notebook is licensed under the MIT License. If you use the code or data visualization designs contained within this notebook, it would be greatly appreciated if proper attribution is given back to this notebook and/or myself. Thanks! :)*"
   ]
  },
  {
   "cell_type": "code",
   "execution_count": 2,
   "metadata": {
    "collapsed": false,
    "scrolled": true
   },
   "outputs": [],
   "source": [
    "library(dplyr)\n",
    "library(readr)"
   ]
  },
  {
   "cell_type": "markdown",
   "metadata": {},
   "source": [
    "## Process the Data\n",
    "\n",
    "Take the movies data, load in R friendly format, and combine with Rotten Tomatoes data."
   ]
  },
  {
   "cell_type": "code",
   "execution_count": 7,
   "metadata": {
    "collapsed": false
   },
   "outputs": [
    {
     "name": "stdout",
     "output_type": "stream",
     "text": [
      "\r",
      "|================================================================================| 100%  435 MB\n"
     ]
    },
    {
     "name": "stderr",
     "output_type": "stream",
     "text": [
      "Warning message:\n",
      ": 23 problems parsing '~/Downloads/omdb0316/omdbMovies.txt'. See problems(...) for more details."
     ]
    }
   ],
   "source": [
    "df <- read_delim(\"~/Downloads/omdb0316/omdbMovies.txt\", \"\\t\", col_types=\"iccicccccccidi_c_____\")\n",
    "df_tomatoes <- read_delim(\"~/Downloads/omdb0316/tomatoes.txt\",  \"\\t\", col_types=\"i_diiiicidi_cc_c\")\n",
    "df <- df %>% left_join(df_tomatoes, by=\"ID\")\n",
    "rm(df_tomatoes)"
   ]
  },
  {
   "cell_type": "code",
   "execution_count": 8,
   "metadata": {
    "collapsed": false
   },
   "outputs": [
    {
     "name": "stderr",
     "output_type": "stream",
     "text": [
      "Warning message:\n",
      "In eval(substitute(expr), envir, enclos): NAs introduced by coercion"
     ]
    }
   ],
   "source": [
    "parseBoxOffice <- function(x) {\n",
    "    unit <- 0\n",
    "    if (is.na(x) | x==\"\") {return (NA)}\n",
    "    if (substr(x, nchar(x), nchar(x)) == \"k\") {unit <- 10^3}\n",
    "    else {unit <- 10^6}\n",
    "\n",
    "    number <- as.numeric(substr(x,2,nchar(x)-1))\n",
    "\n",
    "    return(number * unit)\n",
    "}\n",
    "\n",
    "df <- df %>% mutate(BoxOffice = as.numeric(sapply(BoxOffice, parseBoxOffice)), ReleaseMonth = as.numeric(substr(Released,6,7)))"
   ]
  },
  {
   "cell_type": "markdown",
   "metadata": {},
   "source": [
    "## Box Office\n",
    "\n",
    "What are the best movies?"
   ]
  },
  {
   "cell_type": "code",
   "execution_count": 19,
   "metadata": {
    "collapsed": false
   },
   "outputs": [
    {
     "name": "stdout",
     "output_type": "stream",
     "text": [
      "Source: local data frame [25 x 4]\n",
      "\n",
      "      imdbID                                         Title  Year BoxOffice\n",
      "       (chr)                                         (chr) (int)     (dbl)\n",
      "1  tt2488496    Star Wars: Episode VII - The Force Awakens  2015 930800000\n",
      "2  tt0499549                                        Avatar  2009 760500000\n",
      "3  tt0369610                                Jurassic World  2015 652200000\n",
      "4  tt0848228                                  The Avengers  2012 623300000\n",
      "5  tt0468569                               The Dark Knight  2008 533300000\n",
      "6  tt1774602                               The Dark Knight  2008 533300000\n",
      "7  tt2395427                       Avengers: Age of Ultron  2015 459000000\n",
      "8  tt1345836                         The Dark Knight Rises  2012 448100000\n",
      "9  tt0298148                                       Shrek 2  2004 436500000\n",
      "10 tt1951264               The Hunger Games: Catching Fire  2013 424600000\n",
      "11 tt0383574    Pirates of the Caribbean: Dead Man's Chest  2006 423000000\n",
      "12 tt0435761                                   Toy Story 3  2010 415000000\n",
      "13 tt1300854                                    Iron Man 3  2013 409000000\n",
      "14 tt1392170                              The Hunger Games  2012 408000000\n",
      "15 tt0145487                                    Spider-Man  2002 403700000\n",
      "16 tt1055369           Transformers: Revenge of the Fallen  2009 402100000\n",
      "17 tt2294629                                        Frozen  2013 400700000\n",
      "18 tt1201607  Harry Potter and the Deathly Hallows: Part 2  2011 381000000\n",
      "19 tt0316654                                  Spider-Man 2  2004 373400000\n",
      "20 tt0335345                     The Passion of the Christ  2004 370200000\n",
      "21 tt1690953                               Despicable Me 2  2013 368000000\n",
      "22 tt0167260 The Lord of the Rings: The Return of the King  2003 364000000\n",
      "23 tt2096673                                    Inside Out  2015 356500000\n",
      "24 tt4817264                                    Inside Out  2015 356500000\n",
      "25 tt1399103                Transformers: Dark of the Moon  2011 352400000\n",
      "[1] 1160273\n"
     ]
    }
   ],
   "source": [
    "print(df %>% select(imdbID, Title, Year, BoxOffice) %>% arrange(desc(BoxOffice)) %>% head(25), n=25)\n",
    "print(nrow(df))"
   ]
  },
  {
   "cell_type": "code",
   "execution_count": 20,
   "metadata": {
    "collapsed": false
   },
   "outputs": [
    {
     "name": "stdout",
     "output_type": "stream",
     "text": [
      "Source: local data frame [25 x 4]\n",
      "\n",
      "      imdbID                                         Title  Year BoxOffice\n",
      "       (chr)                                         (chr) (int)     (dbl)\n",
      "1  tt2488496    Star Wars: Episode VII - The Force Awakens  2015 930800000\n",
      "2  tt0499549                                        Avatar  2009 760500000\n",
      "3  tt0369610                                Jurassic World  2015 652200000\n",
      "4  tt0848228                                  The Avengers  2012 623300000\n",
      "5  tt0468569                               The Dark Knight  2008 533300000\n",
      "6  tt2395427                       Avengers: Age of Ultron  2015 459000000\n",
      "7  tt1345836                         The Dark Knight Rises  2012 448100000\n",
      "8  tt0298148                                       Shrek 2  2004 436500000\n",
      "9  tt1951264               The Hunger Games: Catching Fire  2013 424600000\n",
      "10 tt0383574    Pirates of the Caribbean: Dead Man's Chest  2006 423000000\n",
      "11 tt0435761                                   Toy Story 3  2010 415000000\n",
      "12 tt1300854                                    Iron Man 3  2013 409000000\n",
      "13 tt1392170                              The Hunger Games  2012 408000000\n",
      "14 tt0145487                                    Spider-Man  2002 403700000\n",
      "15 tt1055369           Transformers: Revenge of the Fallen  2009 402100000\n",
      "16 tt2294629                                        Frozen  2013 400700000\n",
      "17 tt1201607  Harry Potter and the Deathly Hallows: Part 2  2011 381000000\n",
      "18 tt0316654                                  Spider-Man 2  2004 373400000\n",
      "19 tt0335345                     The Passion of the Christ  2004 370200000\n",
      "20 tt1690953                               Despicable Me 2  2013 368000000\n",
      "21 tt0167260 The Lord of the Rings: The Return of the King  2003 364000000\n",
      "22 tt2096673                                    Inside Out  2015 356500000\n",
      "23 tt1399103                Transformers: Dark of the Moon  2011 352400000\n",
      "24 tt0167261         The Lord of the Rings: The Two Towers  2002 339700000\n",
      "25 tt1951265         The Hunger Games: Mockingjay - Part 1  2014 337100000\n",
      "[1] 1114431\n"
     ]
    }
   ],
   "source": [
    "df_dup <- df %>% select(Title, Year) %>% mutate(Title = gsub(\"The \", \"\", Title))\n",
    "dup <- duplicated(df_dup)   # find entry indices which are duplicates\n",
    "rm(df_dup)   # remove temp dataframe\n",
    "\n",
    "df_dedup <- df %>% filter(!dup)   # keep entries which are *not* dups\n",
    "print(df_dedup %>% select(imdbID, Title, Year, BoxOffice) %>% arrange(desc(BoxOffice)) %>% head(25), n=25)\n",
    "print(nrow(df_dedup))"
   ]
  },
  {
   "cell_type": "code",
   "execution_count": 21,
   "metadata": {
    "collapsed": true
   },
   "outputs": [],
   "source": [
    "write.csv(df_dedup %>% select(imdbID, Title, Year, BoxOffice) %>% arrange(desc(BoxOffice)) %>% head(200), \"top_movies_0316_dedup.csv\", row.names=F)"
   ]
  },
  {
   "cell_type": "markdown",
   "metadata": {},
   "source": [
    "## Inflation"
   ]
  },
  {
   "cell_type": "code",
   "execution_count": 28,
   "metadata": {
    "collapsed": false
   },
   "outputs": [
    {
     "name": "stdout",
     "output_type": "stream",
     "text": [
      "Source: local data frame [6 x 3]\n",
      "\n",
      "   Year Avg_Value    Adjust\n",
      "  (int)     (dbl)     (dbl)\n",
      "1  1947  22.33167 10.653347\n",
      "2  1948  24.04500  9.894240\n",
      "3  1949  23.80917  9.992244\n",
      "4  1950  24.06250  9.887044\n",
      "5  1951  25.97333  9.159664\n",
      "6  1952  26.56667  8.955094\n",
      "Source: local data frame [6 x 3]\n",
      "\n",
      "   Year Avg_Value   Adjust\n",
      "  (int)     (dbl)    (dbl)\n",
      "1  2011  224.9230 1.057726\n",
      "2  2012  229.5963 1.036197\n",
      "3  2013  232.9636 1.021220\n",
      "4  2014  236.7147 1.005037\n",
      "5  2015  236.9952 1.003847\n",
      "6  2016  237.9070 1.000000\n"
     ]
    }
   ],
   "source": [
    "inflation <- read_csv(\"http://research.stlouisfed.org/fred2/data/CPIAUCSL.csv\") %>%\n",
    "                    group_by(Year = as.integer(substr(DATE, 1, 4))) %>%\n",
    "                    summarize(Avg_Value = mean(VALUE)) %>%   # average across all months\n",
    "                    mutate(Adjust = tail(Avg_Value,1) / Avg_Value)   # normalize by most-recent year\n",
    "\n",
    "print(inflation %>% head())\n",
    "print(inflation %>% tail())"
   ]
  },
  {
   "cell_type": "code",
   "execution_count": 32,
   "metadata": {
    "collapsed": false
   },
   "outputs": [
    {
     "name": "stderr",
     "output_type": "stream",
     "text": [
      "Joining by: \"Year\"\n"
     ]
    },
    {
     "name": "stdout",
     "output_type": "stream",
     "text": [
      "Source: local data frame [25 x 3]\n",
      "\n",
      "                                               Title  Year AdjBoxOffice\n",
      "                                               (chr) (int)        (dbl)\n",
      "1                                          The Lorax  1972   1200678740\n",
      "2         Star Wars: Episode VII - The Force Awakens  2015    934381231\n",
      "3                                             Avatar  2009    843234239\n",
      "4                                     Jurassic World  2015    654709324\n",
      "5                                       The Avengers  2012    645861504\n",
      "6                                    The Dark Knight  2008    589422987\n",
      "7                                            Shrek 2  2004    549718499\n",
      "8                                         Spider-Man  2002    533968065\n",
      "9         Pirates of the Caribbean: Dead Man's Chest  2006    499283058\n",
      "10     The Lord of the Rings: The Return of the King  2003    470642109\n",
      "11                                      Spider-Man 2  2004    470251747\n",
      "12                         The Passion of the Christ  2004    466221738\n",
      "13                             The Dark Knight Rises  2012    464319814\n",
      "14                           Avengers: Age of Ultron  2015    460765992\n",
      "15                                       Toy Story 3  2010    452738172\n",
      "16             The Lord of the Rings: The Two Towers  2002    449316204\n",
      "17               Transformers: Revenge of the Fallen  2009    445844165\n",
      "18                   The Hunger Games: Catching Fire  2013    433609883\n",
      "19             Harry Potter and the Sorcerer's Stone  2001    426788025\n",
      "20                                  The Hunger Games  2012    422768319\n",
      "21 The Lord of the Rings: The Fellowship of the Ring  2001    421681619\n",
      "22                                        Iron Man 3  2013    417678856\n",
      "23                                            Frozen  2013    409202733\n",
      "24      Star Wars: Episode II - Attack of the Clones  2002    407254811\n",
      "25      Harry Potter and the Deathly Hallows: Part 2  2011    402993767\n"
     ]
    }
   ],
   "source": [
    "df_dedup_join <- df_dedup %>% inner_join(inflation) %>% mutate(AdjBoxOffice = BoxOffice * Adjust)\n",
    "\n",
    "print(df_dedup_join %>% select(Title, Year, AdjBoxOffice) %>% arrange(desc(AdjBoxOffice)) %>% head(25), n=25)"
   ]
  },
  {
   "cell_type": "code",
   "execution_count": 33,
   "metadata": {
    "collapsed": true
   },
   "outputs": [],
   "source": [
    "write.csv(df_dedup_join %>% select(imdbID, Title, Year, AdjBoxOffice) %>% arrange(desc(AdjBoxOffice)) %>% head(200), \"top_movies_0316_dedup_adj.csv\", row.names=F)"
   ]
  },
  {
   "cell_type": "markdown",
   "metadata": {},
   "source": [
    "## The MIT License (MIT)\n",
    "\n",
    "Copyright (c) 2016 Max Woolf\n",
    "\n",
    "Permission is hereby granted, free of charge, to any person obtaining a copy\n",
    "of this software and associated documentation files (the \"Software\"), to deal\n",
    "in the Software without restriction, including without limitation the rights\n",
    "to use, copy, modify, merge, publish, distribute, sublicense, and/or sell\n",
    "copies of the Software, and to permit persons to whom the Software is\n",
    "furnished to do so, subject to the following conditions:\n",
    "\n",
    "The above copyright notice and this permission notice shall be included in all\n",
    "copies or substantial portions of the Software.\n",
    "\n",
    "THE SOFTWARE IS PROVIDED \"AS IS\", WITHOUT WARRANTY OF ANY KIND, EXPRESS OR\n",
    "IMPLIED, INCLUDING BUT NOT LIMITED TO THE WARRANTIES OF MERCHANTABILITY,\n",
    "FITNESS FOR A PARTICULAR PURPOSE AND NONINFRINGEMENT. IN NO EVENT SHALL THE\n",
    "AUTHORS OR COPYRIGHT HOLDERS BE LIABLE FOR ANY CLAIM, DAMAGES OR OTHER\n",
    "LIABILITY, WHETHER IN AN ACTION OF CONTRACT, TORT OR OTHERWISE, ARISING FROM,\n",
    "OUT OF OR IN CONNECTION WITH THE SOFTWARE OR THE USE OR OTHER DEALINGS IN THE\n",
    "SOFTWARE.\n"
   ]
  }
 ],
 "metadata": {
  "kernelspec": {
   "display_name": "R",
   "language": "R",
   "name": "ir"
  },
  "language_info": {
   "codemirror_mode": "r",
   "file_extension": ".r",
   "mimetype": "text/x-r-source",
   "name": "R",
   "pygments_lexer": "r",
   "version": "3.2.3"
  }
 },
 "nbformat": 4,
 "nbformat_minor": 0
}
